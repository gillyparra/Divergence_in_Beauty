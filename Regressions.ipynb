{
 "cells": [
  {
   "cell_type": "code",
   "execution_count": 8,
   "metadata": {},
   "outputs": [
    {
     "name": "stdout",
     "output_type": "stream",
     "text": [
      "                            OLS Regression Results                            \n",
      "==============================================================================\n",
      "Dep. Variable:          All Time Rank   R-squared:                       0.423\n",
      "Model:                            OLS   Adj. R-squared:                  0.421\n",
      "Method:                 Least Squares   F-statistic:                     145.4\n",
      "Date:                Sat, 27 Apr 2024   Prob (F-statistic):           1.81e-25\n",
      "Time:                        15:43:43   Log-Likelihood:                -1028.1\n",
      "No. Observations:                 200   AIC:                             2060.\n",
      "Df Residuals:                     198   BIC:                             2067.\n",
      "Df Model:                           1                                         \n",
      "Covariance Type:            nonrobust                                         \n",
      "=======================================================================================\n",
      "                          coef    std err          t      P>|t|      [0.025      0.975]\n",
      "---------------------------------------------------------------------------------------\n",
      "const                 120.3907      3.355     35.889      0.000     113.776     127.006\n",
      "Institutional Index    -2.1884      0.181    -12.060      0.000      -2.546      -1.831\n",
      "==============================================================================\n",
      "Omnibus:                       40.176   Durbin-Watson:                   0.472\n",
      "Prob(Omnibus):                  0.000   Jarque-Bera (JB):                8.953\n",
      "Skew:                          -0.018   Prob(JB):                       0.0114\n",
      "Kurtosis:                       1.964   Cond. No.                         21.1\n",
      "==============================================================================\n",
      "\n",
      "Notes:\n",
      "[1] Standard Errors assume that the covariance matrix of the errors is correctly specified.\n"
     ]
    }
   ],
   "source": [
    "import pandas as pd\n",
    "import statsmodels.api as sm\n",
    "\n",
    "# Load the dataset\n",
    "data = pd.read_csv('C:/Users/Guill/OneDrive/Documents/School/Masters/Sem 2/ECON 531/Agg data.csv')\n",
    "\n",
    "\n",
    "# Prepare the data for regression\n",
    "X = data['Institutional Index']  # Independent variable\n",
    "y = data['All Time Rank']  # Dependent variable now rescaled\n",
    "X = sm.add_constant(X)  # Adds a constant term to the predictor\n",
    "\n",
    "# Fit the linear regression model without a constant\n",
    "model = sm.OLS(y, X).fit()\n",
    "\n",
    "# Print the summary of the regression\n",
    "print(model.summary())"
   ]
  },
  {
   "cell_type": "code",
   "execution_count": 9,
   "metadata": {},
   "outputs": [
    {
     "name": "stdout",
     "output_type": "stream",
     "text": [
      "                            OLS Regression Results                            \n",
      "==============================================================================\n",
      "Dep. Variable:          All Time Rank   R-squared:                       0.426\n",
      "Model:                            OLS   Adj. R-squared:                  0.421\n",
      "Method:                 Least Squares   F-statistic:                     73.24\n",
      "Date:                Sat, 27 Apr 2024   Prob (F-statistic):           1.65e-24\n",
      "Time:                        15:44:07   Log-Likelihood:                -1027.6\n",
      "No. Observations:                 200   AIC:                             2061.\n",
      "Df Residuals:                     197   BIC:                             2071.\n",
      "Df Model:                           2                                         \n",
      "Covariance Type:            nonrobust                                         \n",
      "=======================================================================================\n",
      "                          coef    std err          t      P>|t|      [0.025      0.975]\n",
      "---------------------------------------------------------------------------------------\n",
      "const                 122.8139      4.118     29.824      0.000     114.693     130.935\n",
      "Institutional Index    -2.1573      0.184    -11.723      0.000      -2.520      -1.794\n",
      "GDP_per_capita         -0.0001      0.000     -1.014      0.312      -0.000       0.000\n",
      "==============================================================================\n",
      "Omnibus:                       47.379   Durbin-Watson:                   0.477\n",
      "Prob(Omnibus):                  0.000   Jarque-Bera (JB):                9.554\n",
      "Skew:                           0.004   Prob(JB):                      0.00842\n",
      "Kurtosis:                       1.929   Cond. No.                     4.84e+04\n",
      "==============================================================================\n",
      "\n",
      "Notes:\n",
      "[1] Standard Errors assume that the covariance matrix of the errors is correctly specified.\n",
      "[2] The condition number is large, 4.84e+04. This might indicate that there are\n",
      "strong multicollinearity or other numerical problems.\n"
     ]
    }
   ],
   "source": [
    "# Prepare the data for regression\n",
    "X = data[['Institutional Index', 'GDP_per_capita']]  # Independent variables\n",
    "y = data['All Time Rank']  # Dependent variable now rescaled\n",
    "X = sm.add_constant(X)  # Adds a constant term to the predictors\n",
    "\n",
    "# Fit the linear regression model\n",
    "model = sm.OLS(y, X).fit()\n",
    "\n",
    "# Print the summary of the regression\n",
    "print(model.summary())"
   ]
  },
  {
   "cell_type": "code",
   "execution_count": 10,
   "metadata": {},
   "outputs": [
    {
     "name": "stdout",
     "output_type": "stream",
     "text": [
      "                            OLS Regression Results                            \n",
      "==============================================================================\n",
      "Dep. Variable:          All Time Rank   R-squared:                       0.427\n",
      "Model:                            OLS   Adj. R-squared:                  0.419\n",
      "Method:                 Least Squares   F-statistic:                     48.76\n",
      "Date:                Sat, 27 Apr 2024   Prob (F-statistic):           1.38e-23\n",
      "Time:                        15:45:02   Log-Likelihood:                -1027.4\n",
      "No. Observations:                 200   AIC:                             2063.\n",
      "Df Residuals:                     196   BIC:                             2076.\n",
      "Df Model:                           3                                         \n",
      "Covariance Type:            nonrobust                                         \n",
      "=======================================================================================\n",
      "                          coef    std err          t      P>|t|      [0.025      0.975]\n",
      "---------------------------------------------------------------------------------------\n",
      "const                 122.3883      4.195     29.172      0.000     114.114     130.662\n",
      "Institutional Index    -2.1768      0.188    -11.600      0.000      -2.547      -1.807\n",
      "GDP_per_capita         -0.0001      0.000     -0.953      0.342      -0.000       0.000\n",
      "Population           1.143e-08   2.05e-08      0.557      0.578   -2.91e-08    5.19e-08\n",
      "==============================================================================\n",
      "Omnibus:                       46.061   Durbin-Watson:                   0.470\n",
      "Prob(Omnibus):                  0.000   Jarque-Bera (JB):                9.457\n",
      "Skew:                           0.016   Prob(JB):                      0.00884\n",
      "Kurtosis:                       1.935   Cond. No.                     2.16e+08\n",
      "==============================================================================\n",
      "\n",
      "Notes:\n",
      "[1] Standard Errors assume that the covariance matrix of the errors is correctly specified.\n",
      "[2] The condition number is large, 2.16e+08. This might indicate that there are\n",
      "strong multicollinearity or other numerical problems.\n"
     ]
    }
   ],
   "source": [
    "# Prepare the data for regression\n",
    "X = data[['Institutional Index', 'GDP_per_capita','Population']]  # Independent variables\n",
    "y = data['All Time Rank']  # Dependent variable now rescaled\n",
    "X = sm.add_constant(X)  # Adds a constant term to the predictors\n",
    "\n",
    "# Fit the linear regression model\n",
    "model = sm.OLS(y, X).fit()\n",
    "\n",
    "# Print the summary of the regression\n",
    "print(model.summary())"
   ]
  },
  {
   "cell_type": "code",
   "execution_count": 11,
   "metadata": {},
   "outputs": [
    {
     "name": "stdout",
     "output_type": "stream",
     "text": [
      "                            OLS Regression Results                            \n",
      "==============================================================================\n",
      "Dep. Variable:          All Time Rank   R-squared:                       0.288\n",
      "Model:                            OLS   Adj. R-squared:                  0.285\n",
      "Method:                 Least Squares   F-statistic:                     80.24\n",
      "Date:                Sat, 27 Apr 2024   Prob (F-statistic):           2.45e-16\n",
      "Time:                        15:45:57   Log-Likelihood:                -1049.1\n",
      "No. Observations:                 200   AIC:                             2102.\n",
      "Df Residuals:                     198   BIC:                             2109.\n",
      "Df Model:                           1                                         \n",
      "Covariance Type:            nonrobust                                         \n",
      "==================================================================================\n",
      "                     coef    std err          t      P>|t|      [0.025      0.975]\n",
      "----------------------------------------------------------------------------------\n",
      "const            161.6183      7.529     21.467      0.000     146.771     176.465\n",
      "Cultural Index    -1.4640      0.163     -8.958      0.000      -1.786      -1.142\n",
      "==============================================================================\n",
      "Omnibus:                        2.594   Durbin-Watson:                   0.633\n",
      "Prob(Omnibus):                  0.273   Jarque-Bera (JB):                2.055\n",
      "Skew:                           0.102   Prob(JB):                        0.358\n",
      "Kurtosis:                       2.547   Cond. No.                         106.\n",
      "==============================================================================\n",
      "\n",
      "Notes:\n",
      "[1] Standard Errors assume that the covariance matrix of the errors is correctly specified.\n"
     ]
    }
   ],
   "source": [
    "# Prepare the data for regression\n",
    "X = data['Cultural Index']  # Independent variable\n",
    "y = data['All Time Rank']  # Dependent variable now rescaled\n",
    "X = sm.add_constant(X)  # Adds a constant term to the predictor\n",
    "\n",
    "# Fit the linear regression model without a constant\n",
    "model = sm.OLS(y, X).fit()\n",
    "\n",
    "# Print the summary of the regression\n",
    "print(model.summary())"
   ]
  },
  {
   "cell_type": "code",
   "execution_count": 13,
   "metadata": {},
   "outputs": [
    {
     "name": "stdout",
     "output_type": "stream",
     "text": [
      "                            OLS Regression Results                            \n",
      "==============================================================================\n",
      "Dep. Variable:          All Time Rank   R-squared:                       0.320\n",
      "Model:                            OLS   Adj. R-squared:                  0.313\n",
      "Method:                 Least Squares   F-statistic:                     46.29\n",
      "Date:                Sat, 27 Apr 2024   Prob (F-statistic):           3.31e-17\n",
      "Time:                        15:46:57   Log-Likelihood:                -1044.6\n",
      "No. Observations:                 200   AIC:                             2095.\n",
      "Df Residuals:                     197   BIC:                             2105.\n",
      "Df Model:                           2                                         \n",
      "Covariance Type:            nonrobust                                         \n",
      "==================================================================================\n",
      "                     coef    std err          t      P>|t|      [0.025      0.975]\n",
      "----------------------------------------------------------------------------------\n",
      "const            170.7793      7.982     21.396      0.000     155.038     186.520\n",
      "Cultural Index    -1.4771      0.160     -9.217      0.000      -1.793      -1.161\n",
      "GDP_per_capita    -0.0004      0.000     -3.012      0.003      -0.001      -0.000\n",
      "==============================================================================\n",
      "Omnibus:                        4.626   Durbin-Watson:                   0.671\n",
      "Prob(Omnibus):                  0.099   Jarque-Bera (JB):                3.558\n",
      "Skew:                           0.205   Prob(JB):                        0.169\n",
      "Kurtosis:                       2.491   Cond. No.                     8.62e+04\n",
      "==============================================================================\n",
      "\n",
      "Notes:\n",
      "[1] Standard Errors assume that the covariance matrix of the errors is correctly specified.\n",
      "[2] The condition number is large, 8.62e+04. This might indicate that there are\n",
      "strong multicollinearity or other numerical problems.\n"
     ]
    }
   ],
   "source": [
    "# Prepare the data for regression\n",
    "X = data[['Cultural Index', 'GDP_per_capita']]  # Independent variables\n",
    "y = data['All Time Rank']  # Dependent variable now rescaled\n",
    "X = sm.add_constant(X)  # Adds a constant term to the predictors\n",
    "\n",
    "# Fit the linear regression model\n",
    "model = sm.OLS(y, X).fit()\n",
    "\n",
    "# Print the summary of the regression\n",
    "print(model.summary())"
   ]
  },
  {
   "cell_type": "code",
   "execution_count": 14,
   "metadata": {},
   "outputs": [
    {
     "name": "stdout",
     "output_type": "stream",
     "text": [
      "                            OLS Regression Results                            \n",
      "==============================================================================\n",
      "Dep. Variable:          All Time Rank   R-squared:                       0.345\n",
      "Model:                            OLS   Adj. R-squared:                  0.335\n",
      "Method:                 Least Squares   F-statistic:                     34.37\n",
      "Date:                Sat, 27 Apr 2024   Prob (F-statistic):           6.80e-18\n",
      "Time:                        15:47:30   Log-Likelihood:                -1040.9\n",
      "No. Observations:                 200   AIC:                             2090.\n",
      "Df Residuals:                     196   BIC:                             2103.\n",
      "Df Model:                           3                                         \n",
      "Covariance Type:            nonrobust                                         \n",
      "==================================================================================\n",
      "                     coef    std err          t      P>|t|      [0.025      0.975]\n",
      "----------------------------------------------------------------------------------\n",
      "const            175.9517      8.078     21.781      0.000     160.020     191.883\n",
      "Cultural Index    -1.5318      0.159     -9.637      0.000      -1.845      -1.218\n",
      "GDP_per_capita    -0.0004      0.000     -3.246      0.001      -0.001      -0.000\n",
      "Population     -5.948e-08   2.18e-08     -2.734      0.007   -1.02e-07   -1.66e-08\n",
      "==============================================================================\n",
      "Omnibus:                        5.126   Durbin-Watson:                   0.752\n",
      "Prob(Omnibus):                  0.077   Jarque-Bera (JB):                3.987\n",
      "Skew:                           0.231   Prob(JB):                        0.136\n",
      "Kurtosis:                       2.485   Cond. No.                     3.89e+08\n",
      "==============================================================================\n",
      "\n",
      "Notes:\n",
      "[1] Standard Errors assume that the covariance matrix of the errors is correctly specified.\n",
      "[2] The condition number is large, 3.89e+08. This might indicate that there are\n",
      "strong multicollinearity or other numerical problems.\n"
     ]
    }
   ],
   "source": [
    "# Prepare the data for regression\n",
    "X = data[['Cultural Index', 'GDP_per_capita','Population']]  # Independent variables\n",
    "y = data['All Time Rank']  # Dependent variable now rescaled\n",
    "X = sm.add_constant(X)  # Adds a constant term to the predictors\n",
    "\n",
    "# Fit the linear regression model\n",
    "model = sm.OLS(y, X).fit()\n",
    "\n",
    "# Print the summary of the regression\n",
    "print(model.summary())"
   ]
  },
  {
   "cell_type": "code",
   "execution_count": 16,
   "metadata": {},
   "outputs": [
    {
     "name": "stdout",
     "output_type": "stream",
     "text": [
      "                            OLS Regression Results                            \n",
      "==============================================================================\n",
      "Dep. Variable:          All Time Rank   R-squared:                       0.576\n",
      "Model:                            OLS   Adj. R-squared:                  0.572\n",
      "Method:                 Least Squares   F-statistic:                     134.0\n",
      "Date:                Sat, 27 Apr 2024   Prob (F-statistic):           1.85e-37\n",
      "Time:                        15:49:26   Log-Likelihood:                -997.28\n",
      "No. Observations:                 200   AIC:                             2001.\n",
      "Df Residuals:                     197   BIC:                             2010.\n",
      "Df Model:                           2                                         \n",
      "Covariance Type:            nonrobust                                         \n",
      "=======================================================================================\n",
      "                          coef    std err          t      P>|t|      [0.025      0.975]\n",
      "---------------------------------------------------------------------------------------\n",
      "const                 163.0601      5.826     27.990      0.000     151.572     174.549\n",
      "Cultural Index         -1.0985      0.130     -8.429      0.000      -1.355      -0.841\n",
      "Institutional Index    -1.8599      0.161    -11.570      0.000      -2.177      -1.543\n",
      "==============================================================================\n",
      "Omnibus:                        2.143   Durbin-Watson:                   0.754\n",
      "Prob(Omnibus):                  0.342   Jarque-Bera (JB):                2.100\n",
      "Skew:                           0.186   Prob(JB):                        0.350\n",
      "Kurtosis:                       2.664   Cond. No.                         109.\n",
      "==============================================================================\n",
      "\n",
      "Notes:\n",
      "[1] Standard Errors assume that the covariance matrix of the errors is correctly specified.\n"
     ]
    }
   ],
   "source": []
  },
  {
   "cell_type": "code",
   "execution_count": 18,
   "metadata": {},
   "outputs": [
    {
     "name": "stdout",
     "output_type": "stream",
     "text": [
      "                            OLS Regression Results                            \n",
      "==============================================================================\n",
      "Dep. Variable:          All Time Rank   R-squared:                       0.583\n",
      "Model:                            OLS   Adj. R-squared:                  0.577\n",
      "Method:                 Least Squares   F-statistic:                     91.38\n",
      "Date:                Sat, 27 Apr 2024   Prob (F-statistic):           4.98e-37\n",
      "Time:                        16:11:21   Log-Likelihood:                -995.66\n",
      "No. Observations:                 200   AIC:                             1999.\n",
      "Df Residuals:                     196   BIC:                             2013.\n",
      "Df Model:                           3                                         \n",
      "Covariance Type:            nonrobust                                         \n",
      "=======================================================================================\n",
      "                          coef    std err          t      P>|t|      [0.025      0.975]\n",
      "---------------------------------------------------------------------------------------\n",
      "const                 167.3613      6.272     26.684      0.000     154.992     179.731\n",
      "Cultural Index         -1.1149      0.130     -8.581      0.000      -1.371      -0.859\n",
      "Institutional Index    -1.8080      0.162    -11.128      0.000      -2.128      -1.488\n",
      "GDP_per_capita         -0.0002   9.91e-05     -1.790      0.075      -0.000    1.81e-05\n",
      "==============================================================================\n",
      "Omnibus:                        3.045   Durbin-Watson:                   0.752\n",
      "Prob(Omnibus):                  0.218   Jarque-Bera (JB):                2.766\n",
      "Skew:                           0.208   Prob(JB):                        0.251\n",
      "Kurtosis:                       2.600   Cond. No.                     8.63e+04\n",
      "==============================================================================\n",
      "\n",
      "Notes:\n",
      "[1] Standard Errors assume that the covariance matrix of the errors is correctly specified.\n",
      "[2] The condition number is large, 8.63e+04. This might indicate that there are\n",
      "strong multicollinearity or other numerical problems.\n"
     ]
    }
   ],
   "source": [
    "# Prepare the data for regression\n",
    "X = data[['Cultural Index', 'Institutional Index', 'GDP_per_capita' ]]  # Independent variables\n",
    "y = data['All Time Rank']  # Dependent variable now rescaled\n",
    "X = sm.add_constant(X)  # Adds a constant term to the predictors\n",
    "\n",
    "# Fit the linear regression model\n",
    "model = sm.OLS(y, X).fit()\n",
    "\n",
    "# Print the summary of the regression\n",
    "print(model.summary())"
   ]
  }
 ],
 "metadata": {
  "kernelspec": {
   "display_name": "base",
   "language": "python",
   "name": "python3"
  },
  "language_info": {
   "codemirror_mode": {
    "name": "ipython",
    "version": 3
   },
   "file_extension": ".py",
   "mimetype": "text/x-python",
   "name": "python",
   "nbconvert_exporter": "python",
   "pygments_lexer": "ipython3",
   "version": "3.11.4"
  }
 },
 "nbformat": 4,
 "nbformat_minor": 2
}
